{
 "cells": [
  {
   "cell_type": "code",
   "execution_count": 1,
   "metadata": {},
   "outputs": [],
   "source": [
    "import random\n",
    "\n",
    "def write_linguistics(): # Записывает в текстовый файл слова по теме \"лингвистика\"\n",
    "    linguistics = ['алломорф', 'билингвизм', 'вокатив', 'гаплология', 'лабиализация', 'старославянизм', 'транскрипция', 'компаративистика', 'означаемое', 'полисемия']\n",
    "    with open('linguistics.txt', 'w', encoding='utf-8') as f:\n",
    "        f.write(str(' '.join(linguistics)))\n",
    "    \n",
    "def write_economics(): # Записывает в другой текстовый файл слова по теме \"экономика\"\n",
    "    economics = ['гиперинфляция', 'полезность', 'ликвидность', 'импортозамещение', 'жалование', 'безработица', 'микроэкономика', 'долларизация', 'наценка', 'затраты']\n",
    "    with open('economics.txt', 'w', encoding='utf-8') as f:\n",
    "        f.write(str(' '.join(economics)))\n",
    "\n",
    "def write_maths(): # Записывает в третий текстовый файл слова по теме \"математика\"\n",
    "    maths = ['парабола', 'биссектриса', 'неравенство', 'многоугольник', 'координаты', 'производная', 'гипотенуза', 'логарифм', 'дискриминант', 'параллелограмм']\n",
    "    with open('maths.txt', 'w', encoding='utf-8') as f:\n",
    "        f.write(str(' '.join(maths)))"
   ]
  },
  {
   "cell_type": "code",
   "execution_count": 2,
   "metadata": {},
   "outputs": [],
   "source": [
    "def intro(): # Предлагает пользователю выбрать тему, по которой затем надо будет угадать слово\n",
    "    print('Выберите тему, по которой Вам надо будет угадать слово')\n",
    "    print('Вы можете выбрать одну из следующих тем: лингвистика, экономика и математика')\n",
    "    theme = input('Чтобы продолжить, введите название темы со строчной буквы: ')\n",
    "    while theme != 'лингвистика' or theme != 'экономика' or theme != 'математика':\n",
    "        if theme == 'лингвистика':\n",
    "            open_ling()\n",
    "        elif theme == 'экономика':\n",
    "            open_econom()\n",
    "        elif theme == 'математика':\n",
    "            open_maths()\n",
    "        else:\n",
    "            print('Название темы введено некорректно.')\n",
    "            theme = input('Попробуйте еще раз: ')\n",
    "        break\n",
    "    return theme"
   ]
  },
  {
   "cell_type": "code",
   "execution_count": 3,
   "metadata": {},
   "outputs": [],
   "source": [
    "def open_ling(): # Открывает файл со словами по теме \"лингвистика\"\n",
    "    with open('linguistics.txt', encoding='utf-8') as fl:\n",
    "        text = fl.read()\n",
    "    choose(text)\n",
    "    return text\n",
    "        \n",
    "def open_econom(): # Открывает файл со словами по теме \"экономика\"\n",
    "    with open('economics.txt', encoding='utf-8') as fl:\n",
    "        text = fl.read()\n",
    "    choose(text)\n",
    "    return text\n",
    "\n",
    "def open_maths(): # Открывает файл со словами по теме \"математика\"\n",
    "    with open('maths.txt', encoding='utf-8') as fl:\n",
    "        text = fl.read()\n",
    "    choose(text)\n",
    "    return text"
   ]
  },
  {
   "cell_type": "code",
   "execution_count": 4,
   "metadata": {},
   "outputs": [],
   "source": [
    "def choose(text): # Рандомно выбирает слово из заданной пользователем темы и выводит срочку из _ по кол-ву букв в слове\n",
    "    words = []\n",
    "    text = text.split()\n",
    "    for word in text:\n",
    "        words.append(word)\n",
    "    puzzle = random.choice(words)\n",
    "    guess_me_if_you_can(puzzle)"
   ]
  },
  {
   "cell_type": "code",
   "execution_count": 5,
   "metadata": {},
   "outputs": [],
   "source": [
    "def guess_me_if_you_can(puzzle): \n",
    "    #print(puzzle) # Если понадобится посмотреть на рандомно выбранное слово для отслеживания работы функции\n",
    "    print('Вам нужно угадать слово, количество букв в слове - ', len(puzzle), ':' , '_ '*len(puzzle))\n",
    "    print('Вы можете назвать неправильную букву 10 раз')\n",
    "    guess = '_ '*len(puzzle)\n",
    "    used_letters = [] # Список уже названных пользователем символов\n",
    "    n = 10 + len(puzzle) # Количество попыток, чтобы угадать все буквы и использовать 9 из 10 возможностей ошибиться\n",
    "    wrong = 10 # Количество попыток, чтобы допустить ошибку\n",
    "    while n > 1 and guess.replace(' ', '') != puzzle and wrong >= 1:\n",
    "        letter = input('Введите букву из слова: ')\n",
    "        while letter not in 'ёйцукенгшщзхъфывапролджэячсмитьбю' or len(letter) != 1: # Проверяет, является ли введенный символ строчной кириллической буквой\n",
    "            letter = input('Это не символ кириллицы, написанный со строчной буквы. Подумайте еще: ')\n",
    "        if letter in used_letters:\n",
    "            letter = input('Вы уже вводили эту букву. Подумайте еще: ')\n",
    "        else:\n",
    "            used_letters.append(letter)\n",
    "        if letter in puzzle: # Заменяет '_ ' на введенный символ, если он есть в слове\n",
    "            new_word = ''\n",
    "            for i in range(len(puzzle)):\n",
    "                if letter == puzzle[i]:\n",
    "                    new_word += letter + ' '\n",
    "                else:\n",
    "                    new_word += guess[i*2] + guess[i*2 + 1]\n",
    "            guess = new_word\n",
    "            print('Эта буква есть в слове: ', guess)\n",
    "            n = n - 1\n",
    "        else: # Рисует одну деталь виселицы, если введенного символа нет в слове\n",
    "            n = n - 1\n",
    "            wrong = wrong - 1\n",
    "            tries(wrong)\n",
    "            hangman(wrong)\n",
    "    guess = guess.replace(' ', '')\n",
    "    if guess == puzzle:\n",
    "        print('Ура! Вы угадали слово!')\n",
    "        play_again()\n",
    "    return wrong"
   ]
  },
  {
   "cell_type": "code",
   "execution_count": 6,
   "metadata": {},
   "outputs": [],
   "source": [
    "def tries(wrong): # Склоняет слово \"попытка\" для числительных от 0 до 10\n",
    "    if wrong == 1:\n",
    "        print ('Вы не угадали. У Вас осталась', wrong, 'попытка')\n",
    "    elif wrong == 2 or wrong == 3 or wrong == 4:\n",
    "        print('Вы не угадали. У Вас осталось', wrong, 'попытки')\n",
    "    else:\n",
    "        print('Вы не угадали. У Вас осталось', wrong, 'попыток')"
   ]
  },
  {
   "cell_type": "code",
   "execution_count": 7,
   "metadata": {},
   "outputs": [],
   "source": [
    "def hangman(wrong): # Рисует повешенного человечка )))\n",
    "    if wrong == 9:\n",
    "        print('  О')\n",
    "    if wrong == 8:\n",
    "        print('  О', '\\n', ' |')\n",
    "    if wrong == 7:\n",
    "        print('  О', '\\n', '/|')\n",
    "    if wrong == 6:\n",
    "        print('  O', '\\n', '/|\\ ')\n",
    "    if wrong == 5:\n",
    "        print('  O', '\\n', '/|\\ ', '\\n', '  \\ ')\n",
    "    if wrong == 4:\n",
    "        print('  O', '\\n', '/|\\ ', '\\n', '/ \\ ')\n",
    "    if wrong == 3: \n",
    "        print('  |', '\\n', ' O', '\\n', '/|\\ ', '\\n', '/ \\ ') \n",
    "    if wrong == 2:\n",
    "        print('  _', '\\n', ' |', '\\n', ' O', '\\n', '/|\\ ', '\\n', '/ \\ ')\n",
    "    if wrong == 1:\n",
    "        print(' __', '\\n', ' |', '\\n', ' O', '\\n', '/|\\ ', '\\n', '/ \\ ')\n",
    "    if wrong == 0:\n",
    "        print('___', '\\n', ' |', '\\n', ' O', '\\n', '/|\\ ', '\\n', '/ \\ ')\n",
    "        print('Вы проиграли! Не отчаивайтесь, повезет в чем-нибудь другом.')\n",
    "        play_again()"
   ]
  },
  {
   "cell_type": "code",
   "execution_count": 8,
   "metadata": {},
   "outputs": [],
   "source": [
    "def play_again(): # Предлагает пользователю сыграть еще раз\n",
    "    answer = input('Если хотите сыграть еще раз, напишите \"да\" ')\n",
    "    if answer == 'да':\n",
    "        intro()\n",
    "    else:\n",
    "        print('До свидания!')"
   ]
  },
  {
   "cell_type": "code",
   "execution_count": null,
   "metadata": {},
   "outputs": [
    {
     "name": "stdout",
     "output_type": "stream",
     "text": [
      "Выберите тему, по которой Вам надо будет угадать слово\n",
      "Вы можете выбрать одну из следующих тем: лингвистика, экономика и математика\n"
     ]
    }
   ],
   "source": [
    "def main():\n",
    "    write_linguistics()\n",
    "    write_economics()\n",
    "    write_maths()\n",
    "    intro()\n",
    "\n",
    "main()"
   ]
  }
 ],
 "metadata": {
  "kernelspec": {
   "display_name": "Python 3",
   "language": "python",
   "name": "python3"
  },
  "language_info": {
   "codemirror_mode": {
    "name": "ipython",
    "version": 3
   },
   "file_extension": ".py",
   "mimetype": "text/x-python",
   "name": "python",
   "nbconvert_exporter": "python",
   "pygments_lexer": "ipython3",
   "version": "3.6.5"
  }
 },
 "nbformat": 4,
 "nbformat_minor": 2
}
