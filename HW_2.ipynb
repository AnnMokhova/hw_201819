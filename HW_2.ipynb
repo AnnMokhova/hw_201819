{
 "cells": [
  {
   "cell_type": "code",
   "execution_count": 1,
   "metadata": {},
   "outputs": [],
   "source": [
    "import json\n",
    "import urllib.request\n",
    "\n",
    "def all_users(): # 8 (не)случайных пользователей гитхаба - у всех немного репозиториев\n",
    "    users_list = ['maryszmary', 'lizaku', 'nevmenandr', 'ancatmara', 'akutuzov', 'lehkost', 'elmiram', 'agricolamz'] \n",
    "    return users_list"
   ]
  },
  {
   "cell_type": "code",
   "execution_count": 2,
   "metadata": {},
   "outputs": [],
   "source": [
    "def ask_for_user(users_list):\n",
    "    print('Вот список пользователей, гитхаб-профиль которых вы можете посмотреть: ', ', '.join(users_list))\n",
    "    user = input('Введите имя одного из пользователей: ') #Задание 1: выбор одного пользователя из полученного списка\n",
    "    while user not in users_list: # Просит повторить ввод, если набрано что-то кроме имен пользователей\n",
    "        user = input('Это не имя пользователя. Попробуйте еще раз: ')\n",
    "    get_user(user)\n",
    "    return user"
   ]
  },
  {
   "cell_type": "code",
   "execution_count": 3,
   "metadata": {},
   "outputs": [],
   "source": [
    "def get_user(user):\n",
    "    url = 'https://api.github.com/users/%s/repos' % user  # По этой ссылке достается джейсон\n",
    "    \n",
    "    response = urllib.request.urlopen(url)  # Посылает серверу запрос и достаем ответ\n",
    "    text = response.read().decode('utf-8')  # Читает ответ в строку\n",
    "    data = json.loads(text) # Превращает джейсон-строку в объекты питона\n",
    "    repos(data) # Функция, которая печатает список и описания репозиториев пользователя\n",
    "    languages(data) # Функция, которая печатет список языков и количество репозиториев, в которых они используются\n",
    "    return data"
   ]
  },
  {
   "cell_type": "code",
   "execution_count": 4,
   "metadata": {},
   "outputs": [],
   "source": [
    "def repos(data): # Задание 1: печатает список репозиториев пользователя и их описания \n",
    "    print('\\n', '1. Список и описание репозиториев пользователя:', '\\n')\n",
    "    for i in data:\n",
    "        print(i['name'], ':', i['description']) "
   ]
  },
  {
   "cell_type": "code",
   "execution_count": 5,
   "metadata": {},
   "outputs": [],
   "source": [
    "def languages(data): #Задание 2: печатает список языков пользователя и кол-во репозиториев, в которых они используются\n",
    "    languages = []\n",
    "    print('\\n', '2. Список языков пользователя и количество репозиториев, в которых они используются: ', '\\n')\n",
    "    for i in data:\n",
    "        if i['language'] not in languages:\n",
    "            languages.append(i['language']) # Создается список из всех используемых пользователем языков\n",
    "        \n",
    "    n = 0\n",
    "    for item in languages:\n",
    "        for i in data:\n",
    "            if i['language'] == item:\n",
    "                n += 1\n",
    "        print(item, ':', n) # Для каждого элемента из списка языков по очереди печатается частота употребления в репозитории\n",
    "        n = 0"
   ]
  },
  {
   "cell_type": "code",
   "execution_count": 6,
   "metadata": {},
   "outputs": [],
   "source": [
    "def max_repos(users_list): # Задание 3: узнает, у кого из пользователей больше всего репозиториев\n",
    "    maximum = 0 # Начальное максимальное кол-во репозиториев\n",
    "    repos = 0 # Начальное кол-во репозиториев для каждого пользователя\n",
    "    max_user = '' # Начальное имя пользователя с самым большим кол-вом репозиториев\n",
    "    for user in users_list:\n",
    "        url = 'https://api.github.com/users/%s/repos?page=1&per_page=100' % user # По этой ссылке доставается джейсон\n",
    "        response = urllib.request.urlopen(url)  # Посылает серверу запрос и достаем ответ\n",
    "        text = response.read().decode('utf-8')  # Читает ответ в строку\n",
    "        data = json.loads(text) # Превращает джейсон-строку в объекты питона\n",
    "        for i in data:\n",
    "            if i['name']:\n",
    "                repos +=1\n",
    "        if repos > maximum:\n",
    "            max_user = user\n",
    "            maximum = repos\n",
    "        repos = 0 \n",
    "    print('\\n', '3. Больше всего репозиториев - ', maximum, ' - у пользователя', max_user, '.')    "
   ]
  },
  {
   "cell_type": "code",
   "execution_count": 7,
   "metadata": {},
   "outputs": [],
   "source": [
    "def max_followers(users_list): # Задание 5: узнает, у кого из пользователей списка больше всего фолловеров\n",
    "    max_followers = 0\n",
    "    current_followers = 0\n",
    "    follow_user = ''\n",
    "    for user in users_list:\n",
    "        url = 'https://api.github.com/users/%s/followers?page=1&per_page=100' % user  # По этой ссылке достается джейсон\n",
    "        response = urllib.request.urlopen(url)  # Посылает серверу запрос и достаем ответ\n",
    "        text = response.read().decode('utf-8')  # Читает ответ в строку\n",
    "        data = json.loads(text) # Превращает джейсон-строку в объекты питона\n",
    "        for i in data:\n",
    "            if i['login']:\n",
    "                current_followers += 1\n",
    "        if current_followers > max_followers:\n",
    "            follow_user = user\n",
    "            max_followers = current_followers\n",
    "        current_followers = 0\n",
    "    print('\\n', '5. Больше всего подписчиков у пользователя', follow_user, '.')          "
   ]
  },
  {
   "cell_type": "code",
   "execution_count": 8,
   "metadata": {},
   "outputs": [],
   "source": [
    "def max_lingua(users_list): # Задание 4: узнает, какой язык самый популярный среди пользователей списка\n",
    "    lingua = {} # Словарь, в котором ключи - языки, значения - количество репозиториев на этом языке\n",
    "    lingva = [] # Список всех языков, встречающихся в профилях пользователей списка\n",
    "    for user in users_list:\n",
    "        url = 'https://api.github.com/users/%s/repos' % user # По этой ссылке достается джейсон\n",
    "        response = urllib.request.urlopen(url)  # Посылает серверу запрос и достаем ответ\n",
    "        text = response.read().decode('utf-8')  # Читает ответ в строку\n",
    "        data = json.loads(text) # Превращает джейсон-строку в объекты питона\n",
    "        for i in data:\n",
    "            if i['language'] not in lingva:\n",
    "                lingva.append(i['language'])\n",
    "        for key in lingva:\n",
    "            if key in lingua:\n",
    "                value = lingua[key]\n",
    "                lingua[key] = value + 1\n",
    "            else:\n",
    "                lingua[key] = 1\n",
    "        \n",
    "    from operator import itemgetter\n",
    "    top_lingua = sorted(lingua.items(), key=itemgetter(1), reverse=True) # Частотный словарь языков в порядке убывания\n",
    "    \n",
    "    TOP_COUNT = 1 \n",
    "    for key, value in list(lingua.items())[:TOP_COUNT]:\n",
    "        print('\\n', '4. Самый популярный язык: ', key) # Выводит первый элемент из частотного словаря"
   ]
  },
  {
   "cell_type": "code",
   "execution_count": 9,
   "metadata": {},
   "outputs": [],
   "source": [
    "def main():\n",
    "    ask_for_user(all_users())\n",
    "    max_repos(all_users())\n",
    "    max_lingua(all_users())\n",
    "    max_followers(all_users())"
   ]
  },
  {
   "cell_type": "code",
   "execution_count": 10,
   "metadata": {},
   "outputs": [
    {
     "name": "stdout",
     "output_type": "stream",
     "text": [
      "Вот список пользователей, гитхаб-профиль которых вы можете посмотреть:  maryszmary, lizaku, nevmenandr, ancatmara, akutuzov, lehkost, elmiram, agricolamz\n",
      "Введите имя одного из пользователей: lizaku\n",
      "\n",
      " 1. Список и описание репозиториев пользователя: \n",
      "\n",
      "alignment : Repository for storing the project \"Automatic alignment of dictionaries for closely related languages\"\n",
      "CL_spellchecker : The spellchecker project for the CL course\n",
      "disamb_RNC : Disambiguation for Russian\n",
      "dsm_genres : Visualizer for genres based on neural network language models\n",
      "frame-parsing : Semantic role labeling for Russian\n",
      "Geo_entities : Extracting geo entities\n",
      "MorphoAnn : Morphological annotation for REALEC\n",
      "opinion2015 : Mail.Ru project on Opinion Mining in news\n",
      "Programming-and-computer-instruments : Репоззиторий для курса \"Программирование и компьютерные инструменты лингвистических исследований\" в 2016-2017 уч. году.\n",
      "programming_hw : repo for hosting my homework assignments on programming, first semester of 2015-2016\n",
      "realec-exercises : Automatic creation of exercises for REALEC\n",
      "realec-search : Search for the REALEC corpus\n",
      "seq2seq : Kursovaya\n",
      "seq2seq_chatbot : Sequence-to-Sequence chatbot using tensorflow\n",
      "synonyms : Для НУГа про синонимы\n",
      "varia : None\n",
      "verbal-aspect : Working files for my thesis\n",
      "\n",
      " 2. Список языков пользователя и количество репозиториев, в которых они используются:  \n",
      "\n",
      "Python : 12\n",
      "HTML : 2\n",
      "Jupyter Notebook : 2\n",
      "None : 1\n",
      "\n",
      " 3. Больше всего репозиториев -  81  - у пользователя agricolamz .\n",
      "\n",
      " 4. Самый популярный язык:  Python\n",
      "\n",
      " 5. Больше всего подписчиков у пользователя ancatmara .\n"
     ]
    }
   ],
   "source": [
    "main()"
   ]
  },
  {
   "cell_type": "code",
   "execution_count": null,
   "metadata": {},
   "outputs": [],
   "source": []
  }
 ],
 "metadata": {
  "kernelspec": {
   "display_name": "Python 3",
   "language": "python",
   "name": "python3"
  },
  "language_info": {
   "codemirror_mode": {
    "name": "ipython",
    "version": 3
   },
   "file_extension": ".py",
   "mimetype": "text/x-python",
   "name": "python",
   "nbconvert_exporter": "python",
   "pygments_lexer": "ipython3",
   "version": "3.6.5"
  }
 },
 "nbformat": 4,
 "nbformat_minor": 2
}
