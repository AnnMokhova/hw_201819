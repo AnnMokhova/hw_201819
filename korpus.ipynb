{
 "cells": [
  {
   "cell_type": "code",
   "execution_count": 11,
   "metadata": {},
   "outputs": [
    {
     "ename": "AttributeError",
     "evalue": "'NoneType' object has no attribute 'group'",
     "output_type": "error",
     "traceback": [
      "\u001b[0;31m---------------------------------------------------------------------------\u001b[0m",
      "\u001b[0;31mAttributeError\u001b[0m                            Traceback (most recent call last)",
      "\u001b[0;32m<ipython-input-11-8c3ea590d534>\u001b[0m in \u001b[0;36m<module>\u001b[0;34m()\u001b[0m\n\u001b[1;32m     29\u001b[0m                     \u001b[0mtag_path\u001b[0m \u001b[0;34m=\u001b[0m \u001b[0mos\u001b[0m\u001b[0;34m.\u001b[0m\u001b[0mpath\u001b[0m\u001b[0;34m.\u001b[0m\u001b[0mjoin\u001b[0m\u001b[0;34m(\u001b[0m\u001b[0mfilepath\u001b[0m\u001b[0;34m[\u001b[0m\u001b[0;36m7\u001b[0m\u001b[0;34m:\u001b[0m\u001b[0;34m-\u001b[0m\u001b[0;36m4\u001b[0m\u001b[0;34m]\u001b[0m\u001b[0;34m,\u001b[0m\u001b[0mtag_id\u001b[0m\u001b[0;34m)\u001b[0m\u001b[0;34m\u001b[0m\u001b[0m\n\u001b[1;32m     30\u001b[0m                     \u001b[0mreg_mistake\u001b[0m \u001b[0;34m=\u001b[0m \u001b[0mre\u001b[0m\u001b[0;34m.\u001b[0m\u001b[0msearch\u001b[0m\u001b[0;34m(\u001b[0m\u001b[0;34mr'\\s\\d*?\\s\\d*?\\s(\\D+)'\u001b[0m\u001b[0;34m,\u001b[0m \u001b[0mann_text_lines\u001b[0m\u001b[0;34m[\u001b[0m\u001b[0mi\u001b[0m\u001b[0;34m]\u001b[0m\u001b[0;34m,\u001b[0m \u001b[0mflags\u001b[0m\u001b[0;34m=\u001b[0m\u001b[0mre\u001b[0m\u001b[0;34m.\u001b[0m\u001b[0mDOTALL\u001b[0m\u001b[0;34m)\u001b[0m\u001b[0;34m\u001b[0m\u001b[0m\n\u001b[0;32m---> 31\u001b[0;31m                     \u001b[0mtag_mistake\u001b[0m \u001b[0;34m=\u001b[0m \u001b[0mreg_mistake\u001b[0m\u001b[0;34m.\u001b[0m\u001b[0mgroup\u001b[0m\u001b[0;34m(\u001b[0m\u001b[0;36m1\u001b[0m\u001b[0;34m)\u001b[0m\u001b[0;34m\u001b[0m\u001b[0m\n\u001b[0m\u001b[1;32m     32\u001b[0m                     \u001b[0mreg_correct\u001b[0m \u001b[0;34m=\u001b[0m \u001b[0mre\u001b[0m\u001b[0;34m.\u001b[0m\u001b[0msearch\u001b[0m\u001b[0;34m(\u001b[0m\u001b[0;34mr'T\\d*?\\s(\\D+)'\u001b[0m\u001b[0;34m,\u001b[0m \u001b[0mann_text_lines\u001b[0m\u001b[0;34m[\u001b[0m\u001b[0mi\u001b[0m\u001b[0;34m+\u001b[0m\u001b[0;36m1\u001b[0m\u001b[0;34m]\u001b[0m\u001b[0;34m,\u001b[0m \u001b[0mflags\u001b[0m\u001b[0;34m=\u001b[0m\u001b[0mre\u001b[0m\u001b[0;34m.\u001b[0m\u001b[0mDOTALL\u001b[0m\u001b[0;34m)\u001b[0m\u001b[0;34m\u001b[0m\u001b[0m\n\u001b[1;32m     33\u001b[0m                     \u001b[0;32mif\u001b[0m \u001b[0mreg_correct\u001b[0m \u001b[0;32mis\u001b[0m \u001b[0;32mNone\u001b[0m\u001b[0;34m:\u001b[0m\u001b[0;34m\u001b[0m\u001b[0m\n",
      "\u001b[0;31mAttributeError\u001b[0m: 'NoneType' object has no attribute 'group'"
     ]
    }
   ],
   "source": [
    "import re\n",
    "import os\n",
    "\n",
    "\n",
    "list_of_dirs = os.listdir('./data')\n",
    "visited = []\n",
    "with open('table.csv', 'w', encoding='utf-8') as f:  # создается пустая csv таблица\n",
    "    for x in ('Path', 'Tag', 'Full sentence', 'Tagged mistake', 'Corrected mistake'):\n",
    "        f.write(x)\n",
    "        f.write('\\t')\n",
    "    f.write('\\n')\n",
    "#for dirname in list_of_dirs:\n",
    "path = './data/'\n",
    "  #  path += dirname\n",
    "   # files_in_dir = os.listdir(path)\n",
    "for root, dirs, files in os.walk(path):\n",
    "    for filename in files:\n",
    "   # for filename in files_in_dir:\n",
    "        if '.ann' in filename:\n",
    "            filepath = os.path.join(root, filename)\n",
    "            with open(filepath, encoding=\"utf-8\") as f:\n",
    "                ann_text = f.read()\n",
    "            ann_text_lines = ann_text.splitlines()\n",
    "            for i in range(len(ann_text_lines)-1):\n",
    "                reg_tag = re.search(r'T.*?Tense_choice.*?\\D',ann_text_lines[i])\n",
    "                if reg_tag is not None:\n",
    "                    reg_id = re.search(r'(T\\d*?)\\s',ann_text_lines[i])\n",
    "                    tag_id = reg_id.group(1)\n",
    "                    tag_path = os.path.join(filepath[7:-4],tag_id)\n",
    "                    reg_mistake = re.search(r'\\s\\d*?\\s\\d*?\\s(\\D+)', ann_text_lines[i], flags=re.DOTALL)\n",
    "                    tag_mistake = reg_mistake.group(1)\n",
    "                    reg_correct = re.search(r'T\\d*?\\s(\\D+)', ann_text_lines[i+1], flags=re.DOTALL)\n",
    "                    if reg_correct is None:\n",
    "                        correct_mistake = ''\n",
    "                    else:\n",
    "                        correct_mistake = reg_correct.group(1)\n",
    "                    reg_position = re.search(r'\\s\\d*?\\s\\d*?\\s',ann_text_lines[i], flags=re.DOTALL)\n",
    "                    position = reg_position.group()\n",
    "                    pos1,pos2 = position.split()\n",
    "                    textfilename = filename[0:-3] + 'txt'\n",
    "                    visited.append(textfilename)\n",
    "                    textfilepath = os.path.join(root, textfilename)\n",
    "                    with open(textfilepath, encoding=\"utf-8\") as f:\n",
    "                        text = f.read()\n",
    "                    text = text.replace('\\n','')\n",
    "                    text_lines = text.split('.')\n",
    "                    for line in text_lines:\n",
    "                        if text.find(line)<=int(pos1) and text.find(line)+len(line)>=int(pos2):\n",
    "                            sentence_with_tag = line\n",
    "                    with open('table.csv', 'a', encoding='utf-8') as f:\n",
    "                        row = '%s\\tTense_choice\\t%s\\t%s\\t%s\\t'\n",
    "                        f.write(row % (tag_path, sentence_with_tag, tag_mistake, correct_mistake))\n",
    "                        f.write('\\n')\n",
    "    #                for line in text_lines:\n",
    "    #                    if text.find(line) <= int(pos1) and text.find(line) + len(line) >= int(pos2):\n",
    "    #                        sentence_with_tag = line\n",
    "    #                with open('table.csv', 'a', encoding='utf-8') as f:\n",
    "    #                    row = '%s\\tCoordinate\\t%s\\t%s\\t%s\\t'\n",
    "    #                    f.write(row % (tag_path, sentence_with_tag, tag_mistake, correct_mistake))\n",
    "    #                    f.write('\\n')"
   ]
  },
  {
   "cell_type": "code",
   "execution_count": null,
   "metadata": {},
   "outputs": [],
   "source": []
  }
 ],
 "metadata": {
  "kernelspec": {
   "display_name": "Python 3",
   "language": "python",
   "name": "python3"
  }
 },
 "nbformat": 4,
 "nbformat_minor": 2
}
